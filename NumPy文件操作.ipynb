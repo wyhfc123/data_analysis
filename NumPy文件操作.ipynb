{
 "cells": [
  {
   "cell_type": "code",
   "execution_count": 5,
   "metadata": {},
   "outputs": [],
   "source": [
    "#操作csv文件\n",
    "# 1、文件保存\n",
    "import numpy as np\n",
    "array=np.random.randint(0,9,size=(3,5))\n",
    "np.savetxt(\"array.csv\",array,fmt=\"%d\",delimiter=\",\")\n"
   ]
  },
  {
   "cell_type": "code",
   "execution_count": 12,
   "metadata": {},
   "outputs": [
    {
     "name": "stdout",
     "output_type": "stream",
     "text": [
      "[[1 1 6]\n",
      " [1 3 7]\n",
      " [4 0 7]\n",
      " [3 4 4]\n",
      " [2 4 3]]\n"
     ]
    }
   ],
   "source": [
    "# 2、读取文件\n",
    "c=np.loadtxt(\"array.csv\",dtype=\"int\",delimiter=\",\",unpack=True)\n",
    "print(c)"
   ]
  },
  {
   "cell_type": "code",
   "execution_count": 16,
   "metadata": {},
   "outputs": [
    {
     "name": "stdout",
     "output_type": "stream",
     "text": [
      "[[1 1 4 3 2]\n",
      " [1 3 0 4 4]\n",
      " [6 7 7 4 3]]\n",
      "<numpy.lib.npyio.NpzFile object at 0x0000023D4427E108>\n"
     ]
    }
   ],
   "source": [
    "#np独有存储方式\n",
    "# 保存数组\n",
    "np.save(\"数组1\",array)\n",
    "np.savez(\"数组2\",array)   #保存为压缩文件\n",
    "# 读取数组\n",
    "a=np.load(\"数组1.npy\")\n",
    "a1=np.load(\"数组2.npz\") #读取压缩文件(格式)\n",
    "print(a)\n",
    "print(a1)"
   ]
  },
  {
   "cell_type": "code",
   "execution_count": 24,
   "metadata": {},
   "outputs": [
    {
     "name": "stdout",
     "output_type": "stream",
     "text": [
      "['1', '3', '0', '4', '4']\n",
      "['6', '7', '7', '4', '3']\n"
     ]
    },
    {
     "ename": "KeyError",
     "evalue": "1",
     "output_type": "error",
     "traceback": [
      "\u001b[1;31m---------------------------------------------------------------------------\u001b[0m",
      "\u001b[1;31mKeyError\u001b[0m                                  Traceback (most recent call last)",
      "\u001b[1;32m<ipython-input-24-4214129ae3de>\u001b[0m in \u001b[0;36m<module>\u001b[1;34m\u001b[0m\n\u001b[0;32m     12\u001b[0m     \u001b[0mreader\u001b[0m\u001b[1;33m=\u001b[0m\u001b[0mcsv\u001b[0m\u001b[1;33m.\u001b[0m\u001b[0mDictReader\u001b[0m\u001b[1;33m(\u001b[0m\u001b[0mfp1\u001b[0m\u001b[1;33m)\u001b[0m\u001b[1;33m\u001b[0m\u001b[1;33m\u001b[0m\u001b[0m\n\u001b[0;32m     13\u001b[0m     \u001b[1;32mfor\u001b[0m \u001b[0mi\u001b[0m \u001b[1;32min\u001b[0m \u001b[0mreader\u001b[0m\u001b[1;33m:\u001b[0m\u001b[1;33m\u001b[0m\u001b[1;33m\u001b[0m\u001b[0m\n\u001b[1;32m---> 14\u001b[1;33m         \u001b[0mprint\u001b[0m\u001b[1;33m(\u001b[0m\u001b[0mi\u001b[0m\u001b[1;33m[\u001b[0m\u001b[1;36m1\u001b[0m\u001b[1;33m]\u001b[0m\u001b[1;33m)\u001b[0m\u001b[1;33m\u001b[0m\u001b[1;33m\u001b[0m\u001b[0m\n\u001b[0m\u001b[0;32m     15\u001b[0m \u001b[1;33m\u001b[0m\u001b[0m\n",
      "\u001b[1;31mKeyError\u001b[0m: 1"
     ]
    }
   ],
   "source": [
    "# csv文件操作\n",
    "#读取csv文件\n",
    "import csv\n",
    "with open(\"array.csv\",'r') as rp:\n",
    "    reader=csv.reader(rp)\n",
    "    #迭代标题\n",
    "    titles=next(reader)\n",
    "    for i in reader:\n",
    "        print(i)\n",
    "#使用DictReader\n",
    "with open(\"array.csv\",\"r\") as fp1:\n",
    "    reader=csv.DictReader(fp1)\n",
    "    for i in reader:\n",
    "        print(i[\"键名\"])\n",
    "    "
   ]
  },
  {
   "cell_type": "code",
   "execution_count": 26,
   "metadata": {},
   "outputs": [],
   "source": [
    "# 写入csv文件\n",
    "headers = ['name','age','classroom']\n",
    "values = [\n",
    " ('zhiliao',18,'111'),\n",
    " ('wena',20,'222'),\n",
    " ('bbc',21,'111') ]\n",
    "\n",
    "with open(\"writer.csv\",'w',newline='') as fw:\n",
    "    writer=csv.writer(fw)\n",
    "    writer.writerow(headers)\n",
    "    writer.writerows(values)\n",
    "# DictWriter\n",
    "headers = ['name','age','classroom']\n",
    "values = [\n",
    " {\"name\":'wenn',\"age\":20,\"classroom\":'222'},\n",
    " {\"name\":'abc',\"age\":30,\"classroom\":'333'} ]\n",
    "with open(\"writer1.csv\",'w',newline='') as fw1:\n",
    "    wirter=csv.DictWriter(fw1,headers)\n",
    "    writer.writerow({\"name\":'wenn',\"age\":20,\"classroom\":'222'})\n",
    "    writer.writerows(values)\n"
   ]
  },
  {
   "cell_type": "code",
   "execution_count": 28,
   "metadata": {},
   "outputs": [
    {
     "name": "stdout",
     "output_type": "stream",
     "text": [
      "[[[1.79008941 1.40839384 1.80323607]\n",
      "  [1.14872473 1.41564645 1.13035416]]\n",
      "\n",
      " [[0.78729596 0.7490743  1.24072296]\n",
      "  [1.11080294 0.69938256 1.09116685]]\n",
      "\n",
      " [[0.10579056 0.70946187 0.13494067]\n",
      "  [0.6504809  0.4688017  0.68463977]]]\n"
     ]
    }
   ],
   "source": [
    "#数组操作和文件操作作业\n",
    "a = np.random.rand(3,2,3)\n",
    "b = np.random.rand(3,2,2)\n",
    "c =np.random.rand(3,1,1)\n",
    "# print(a+b)\n",
    "print(a+c)"
   ]
  },
  {
   "cell_type": "code",
   "execution_count": 51,
   "metadata": {
    "scrolled": true
   },
   "outputs": [
    {
     "name": "stdout",
     "output_type": "stream",
     "text": [
      "[[0.49814687 0.32467839 0.46048981 0.18190831 0.01921961]\n",
      " [0.56840901 0.22287907 0.42019336 0.71476728 0.8631225 ]\n",
      " [0.22512977 0.35812676 0.52473552 0.04905428 0.55484875]]\n",
      "a*****************\n",
      "[[0.78882706 0.75275682 0.58450169 0.64159086]\n",
      " [0.10861232 0.78449721 0.34033182 0.75412037]\n",
      " [0.54528403 0.40536608 0.13427058 0.73653286]\n",
      " [0.64544358 0.63029123 0.8118314  0.11448718]\n",
      " [0.6206394  0.91863697 0.14143358 0.22079504]\n",
      " [0.05706996 0.16457428 0.78421271 0.57477418]]\n",
      "b*****************\n",
      "***************************\n",
      "[[0.49814687 0.32467839 0.46048981 0.18190831 0.01921961]\n",
      " [0.56840901 0.22287907 0.42019336 0.71476728 0.8631225 ]\n",
      " [0.22512977 0.35812676 0.52473552 0.04905428 0.55484875]\n",
      " [0.78882706 0.75275682 0.         0.58450169 0.64159086]\n",
      " [0.10861232 0.78449721 0.         0.34033182 0.75412037]\n",
      " [0.54528403 0.40536608 0.         0.13427058 0.73653286]\n",
      " [0.64544358 0.63029123 0.         0.8118314  0.11448718]\n",
      " [0.6206394  0.91863697 0.         0.14143358 0.22079504]\n",
      " [0.05706996 0.16457428 0.         0.78421271 0.57477418]]\n"
     ]
    }
   ],
   "source": [
    "# 2、\n",
    "a = np.random.rand(3,5)\n",
    "b = np.random.rand(6,4)\n",
    "c2=np.full((6,1),0)\n",
    "b1=np.hsplit(b,2)\n",
    "print(a)\n",
    "print(\"a*****************\")\n",
    "print(b)\n",
    "print(\"b*****************\")\n",
    "print(\"***************************\")\n",
    "# print(np.hstack([a,c1]))\n",
    "result=np.vstack([a,np.hstack([np.hstack([b1[0],c2]),b1[1]])])\n",
    "print(result)"
   ]
  },
  {
   "cell_type": "code",
   "execution_count": 98,
   "metadata": {},
   "outputs": [
    {
     "name": "stdout",
     "output_type": "stream",
     "text": [
      "[[ 5.  3.  8. nan  4.  1.]\n",
      " [ 4.  0.  1.  6.  4.  0.]\n",
      " [ 4.  7.  4.  0.  0. nan]\n",
      " [ 2.  7.  0.  7.  3.  1.]\n",
      " [ 4.  1.  3.  1.  0.  5.]]\n",
      "(array([0, 2], dtype=int64), array([3, 5], dtype=int64))\n",
      "[[4. 0. 1. 6. 4. 0.]\n",
      " [2. 7. 0. 7. 3. 1.]\n",
      " [4. 1. 3. 1. 0. 5.]]\n"
     ]
    }
   ],
   "source": [
    "# NAN和INF值处理\n",
    "arr=np.random.randint(0,9,size=(5,6)).astype(np.float)\n",
    "arr[0,3]=np.nan\n",
    "arr[2,5]=np.nan\n",
    "#1、删除所有缺失值\n",
    "b=arr[~np.isnan(arr)]\n",
    "# print(b)\n",
    "# 2、删除nan所在的行\n",
    "print(arr)\n",
    "print(np.where(np.isnan(arr)))  #使用where函数获得nan在数组中的位置，返回元组，前面代表行号，后面代表列号\n",
    "lines=np.where(np.isnan(arr))[0]\n",
    "data=np.delete(arr,lines,axis=0)\n",
    "print(data)\n",
    "# np.where(np.isnan(arr))\n",
    "\n"
   ]
  },
  {
   "cell_type": "code",
   "execution_count": 120,
   "metadata": {},
   "outputs": [
    {
     "name": "stdout",
     "output_type": "stream",
     "text": [
      "[[59. 89.]\n",
      " [90. 32.]\n",
      " [78. 45.]\n",
      " [34. nan]\n",
      " [nan 56.]\n",
      " [90. 56.]]\n",
      "[[59.  89. ]\n",
      " [90.  32. ]\n",
      " [78.  45. ]\n",
      " [34.  55.6]\n",
      " [70.2 56. ]\n",
      " [90.  56. ]]\n"
     ]
    }
   ],
   "source": [
    "# 3、用其他值替换\n",
    "scores = np.loadtxt(\"scores.csv\",skiprows=1,delimiter=\",\",encoding=\"utf-8\",dtype=np.str)  #读物csv文件的值\n",
    "scores[scores=='']=np.NAN  #将数组中所有空值都等于nan\n",
    "scores[scores == \"\"] = np.NAN\n",
    "scores=scores.astype(np.float)\n",
    "# print(scores)\n",
    "# 1. 求出学生成绩的总分\n",
    "score1=scores.copy()\n",
    "# print(score1.sum(axis=1))\n",
    "# 1. 求出学生成绩的平均分\n",
    "score2=scores.copy()\n",
    "# print(score2.shape)\n",
    "for i in range(score2.shape[1]):\n",
    "    score=scores[:,i]\n",
    "    avage=score[~np.isnan(score)].mean()\n",
    "    score[np.isnan(score)]=avage\n",
    "print(scores)"
   ]
  },
  {
   "cell_type": "code",
   "execution_count": 145,
   "metadata": {},
   "outputs": [
    {
     "name": "stdout",
     "output_type": "stream",
     "text": [
      "[6 4 3 5 2 0 8 9 1 7]\n"
     ]
    }
   ],
   "source": [
    "# random模块 \n",
    "#random.seed(种子值)\n",
    "#np.random.seed(1) 如果设置即随机数固定，如果不设置，则默认种子值为时间戳\n",
    "\n",
    "\n",
    "#  np.random.rand([行，列])  0-1之间的小数\n",
    "# a=np.random.rand(2,3)  \n",
    "#  np.random.randn([行，列])  随即标准正态分布值\n",
    "# a=np.random.randn(2,3)\n",
    "# print(a)\n",
    "\n",
    "\n",
    "    # np.random.choice(数字或数组,[行，列])  ；从数字或数组中随机选取0个或多个数据，可以构成数组\n",
    "data=np.arange(10)\n",
    "# a=np.random.choice(data,size=(2,3))\n",
    "# a=np.random.choice(data,3)\n",
    "# a=np.random.choice(10,3)\n",
    "# print(a)\n",
    "\n",
    "np.random.shuffle(data)  #将数组中数据顺序打乱\n",
    "print(data)\n",
    "\n"
   ]
  },
  {
   "cell_type": "code",
   "execution_count": 164,
   "metadata": {},
   "outputs": [
    {
     "name": "stdout",
     "output_type": "stream",
     "text": [
      "1\n",
      "2.0\n",
      "16\n",
      "54.598150033144236\n",
      "1.3862943611198906\n",
      "0.6020599913279624\n",
      "2.0\n",
      "1.6094379124341003\n",
      "1\n",
      "6.0\n",
      "6.0\n",
      "(0.3999999999999999, 3.0)\n",
      "True\n",
      "True\n"
     ]
    }
   ],
   "source": [
    "#通用函数\n",
    "# np.abs() 绝对值函数\n",
    "n=-1\n",
    "a=np.abs(n)\n",
    "print(a)\n",
    "\n",
    "# np.sqrt() 平方根函数 \n",
    "n=4\n",
    "b=np.sqrt(n)\n",
    "print(b)\n",
    "\n",
    "# np.square()  平方函数\n",
    "b=np.square(n)\n",
    "print(b)\n",
    "\n",
    "#np.exp() 指数函数 e的x次方\n",
    "\n",
    "n=4\n",
    "b=np.exp(n)  \n",
    "print(b)\n",
    "\n",
    "#np.log，np.log10，np.log2，np.log1p   求以e为底，以10为低，以2为低，以(1+x)为底的对数\n",
    "b=np.log(n)  \n",
    "print(b)\n",
    "\n",
    "b=np.log10(n)  \n",
    "print(b)\n",
    "\n",
    "b=np.log2(n)  \n",
    "print(b)\n",
    "\n",
    "b=np.log1p(n)  \n",
    "print(b)\n",
    "\n",
    "\n",
    "# np.sign() 将数组中的值标签化，大于0的变成1，等于0的变成0，小于0的变成-1\n",
    "b=np.sign(2)\n",
    "print(b)\n",
    "\n",
    "# np.ceil() 朝着无穷大的方向取整，比如5.1会变成6，-6.3会变成-6\n",
    "np.ceil(5.1)\n",
    "\n",
    "\n",
    "# np.floor() 朝着负无穷大方向取证，比如5.1会变成5，-6.3会变成-7\n",
    "np.floor(5.8) \n",
    "\n",
    "\n",
    "#np.rint，np.round  返回四舍五入后的值\n",
    "print(np.rint(5.5))\n",
    "print(np.round(5.5))\n",
    "\n",
    "\n",
    "#np.modf  将整数和小数分隔开来形成两个数组\n",
    "print(np.modf(3.4))  \n",
    "\n",
    "#np.isnan()   判断是否是nan\n",
    "n=np.nan\n",
    "print(np.isnan(n))\n",
    "\n",
    "#np.isinf()   判断是否是inf\n",
    "n=np.inf\n",
    "print(np.isinf(n)) \n",
    "\n",
    "#np.cos，np.cosh，np.sin，np.sinh，np.tan，np.tanh   三角函数\n",
    "#np.arccos，np.arcsin，np.arctan  反三角函数"
   ]
  },
  {
   "cell_type": "code",
   "execution_count": 165,
   "metadata": {},
   "outputs": [
    {
     "name": "stdout",
     "output_type": "stream",
     "text": [
      "2\n",
      "1\n",
      "4\n",
      "3.0\n",
      "-2\n",
      "1\n",
      "2\n",
      "True\n",
      "True\n",
      "True\n",
      "True\n",
      "True\n",
      "True\n",
      "True\n"
     ]
    }
   ],
   "source": [
    "#二元函数\n",
    "# np.add   加法运算（即1+1=2），相当于+\n",
    "print(np.add(1,1))\n",
    "\n",
    "# np.subtract 减法运算（即3-2=1），相当于-\n",
    "print(np.subtract(3,2))\n",
    "\n",
    "# np.multiply 乘法运算（即3*2=6），相当于*\n",
    "print(np.multiply(2,2))\n",
    "\n",
    "# np.divide 除法运算（即6/2=3），相当于、\n",
    "print(np.divide(6,2))\n",
    "\n",
    "# np.negative负数运算（即-2），相当于加个负号\n",
    "print(np.negative(2))\n",
    "\n",
    "# np.floor_divide 取整运算，相当于//\n",
    "print(np.floor_divide(4,3))\n",
    "\n",
    "# np.mod 取余运算，相当于%\n",
    "print(np.mod(8,3))\n",
    "\n",
    "# greater,greater_equal,less,less_equal,equal,not_equal >,>=,<,<=,=,!=的函数\n",
    "# 表达式\n",
    "print(np.greater(3,1))\n",
    "print(np.greater_equal(3,3))\n",
    "print(np.less(2,5))\n",
    "print(np.less_equal(2,2))\n",
    "print(np.not_equal(2,5))\n",
    "\n",
    "# logical_and &的函数表达式\n",
    "# logical_or \\\n",
    "print(np.logical_and(1,2))\n",
    "print(np.logical_or(1,2))"
   ]
  },
  {
   "cell_type": "code",
   "execution_count": 166,
   "metadata": {},
   "outputs": [],
   "source": [
    "# 3、聚合函数\n",
    "# 函数名称 NAN安全版本 描述\n",
    "# np.sum np.nansum 计算元素的和\n",
    "# np.prod np.nanprod 计算元素的积\n",
    "# np.mean np.nanmean 计算元素的平均值\n",
    "# np.std np.nanstd 计算元素的标准差\n",
    "# np.var np.nanvar 计算元素的方差\n",
    "# np.min np.nanmin 计算元素的最小值\n",
    "# np.max np.nanmax 计算元素的最大值\n",
    "# np.argmin np.nanargmin 找出最小值的索引\n",
    "# np.argmax np.nanargmax 找出最大值的索引\n",
    "# np.median np.nanmedian 计算元素的中位数"
   ]
  },
  {
   "cell_type": "code",
   "execution_count": 167,
   "metadata": {},
   "outputs": [
    {
     "name": "stdout",
     "output_type": "stream",
     "text": [
      "False\n",
      "False\n"
     ]
    }
   ],
   "source": [
    "# 布尔数组的函数\n",
    "# np.any 验证任何一个元素是否为真\n",
    "# np.all 验证所有元素是否为真\n",
    "print(np.any(0))\n",
    "print(np.all([0,1,2]))\n",
    "\n"
   ]
  },
  {
   "cell_type": "code",
   "execution_count": 168,
   "metadata": {},
   "outputs": [
    {
     "name": "stdout",
     "output_type": "stream",
     "text": [
      "[0.         0.09090909 0.18181818 0.27272727 0.36363636 0.45454545\n",
      " 0.54545455 0.63636364 0.72727273 0.81818182 0.90909091 1.        ]\n"
     ]
    }
   ],
   "source": [
    "# np.linspace：用来将指定区间内的值平均分成多少份。\n",
    "print(np.linspace(0,1,12))"
   ]
  },
  {
   "cell_type": "code",
   "execution_count": 170,
   "metadata": {},
   "outputs": [
    {
     "data": {
      "text/plain": [
       "array([[False, False, False],\n",
       "       [False, False, False],\n",
       "       [False, False, False]])"
      ]
     },
     "execution_count": 170,
     "metadata": {},
     "output_type": "execute_result"
    }
   ],
   "source": [
    "np.full((3,3),False,dtype=np.bool)\n",
    "np.full((3,3),False)"
   ]
  },
  {
   "cell_type": "code",
   "execution_count": null,
   "metadata": {},
   "outputs": [],
   "source": []
  }
 ],
 "metadata": {
  "kernelspec": {
   "display_name": "Python 3",
   "language": "python",
   "name": "python3"
  },
  "language_info": {
   "codemirror_mode": {
    "name": "ipython",
    "version": 3
   },
   "file_extension": ".py",
   "mimetype": "text/x-python",
   "name": "python",
   "nbconvert_exporter": "python",
   "pygments_lexer": "ipython3",
   "version": "3.7.4"
  }
 },
 "nbformat": 4,
 "nbformat_minor": 2
}
