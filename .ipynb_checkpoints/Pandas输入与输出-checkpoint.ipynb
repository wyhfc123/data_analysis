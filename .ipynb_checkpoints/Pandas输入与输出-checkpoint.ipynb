{
 "cells": [
  {
   "cell_type": "code",
   "execution_count": 25,
   "metadata": {},
   "outputs": [
    {
     "ename": "NameError",
     "evalue": "name '读' is not defined",
     "output_type": "error",
     "traceback": [
      "\u001b[1;31m---------------------------------------------------------------------------\u001b[0m",
      "\u001b[1;31mNameError\u001b[0m                                 Traceback (most recent call last)",
      "\u001b[1;32m<ipython-input-25-f1d2744cadad>\u001b[0m in \u001b[0;36m<module>\u001b[1;34m\u001b[0m\n\u001b[0;32m      4\u001b[0m \u001b[1;31m# pandas输入与输出\u001b[0m\u001b[1;33m\u001b[0m\u001b[1;33m\u001b[0m\u001b[1;33m\u001b[0m\u001b[0m\n\u001b[0;32m      5\u001b[0m \u001b[1;31m# 1、读写文本格式的文件\u001b[0m\u001b[1;33m\u001b[0m\u001b[1;33m\u001b[0m\u001b[1;33m\u001b[0m\u001b[0m\n\u001b[1;32m----> 6\u001b[1;33m \u001b[0m读\u001b[0m\u001b[1;33m\u001b[0m\u001b[1;33m\u001b[0m\u001b[0m\n\u001b[0m\u001b[0;32m      7\u001b[0m \u001b[0mpd\u001b[0m\u001b[1;33m.\u001b[0m\u001b[0mread_csv\u001b[0m\u001b[1;33m(\u001b[0m\u001b[1;34m\"writer.csv\"\u001b[0m\u001b[1;33m)\u001b[0m\u001b[1;33m\u001b[0m\u001b[1;33m\u001b[0m\u001b[0m\n\u001b[0;32m      8\u001b[0m \u001b[1;33m\u001b[0m\u001b[0m\n",
      "\u001b[1;31mNameError\u001b[0m: name '读' is not defined"
     ]
    }
   ],
   "source": [
    "import numpy as np\n",
    "import pandas as pd\n",
    "\n",
    "# pandas输入与输出\n",
    "# 1、读写文本格式的文件\n",
    "# 读\n",
    "pd.read_csv(\"writer.csv\")\n",
    "\n",
    "pd.read_table(\"writer.csv\",sep=\",\")  #sep修改分割标志\n",
    "\n",
    "pd.read_csv(\"array.csv\",header=None)  #header=None：使用默认列名\n",
    "pd.read_csv(\"array1.csv\",names=list(\"abcde\"))  #names=list(\"abcde\"):自定义列名\n",
    "pd.read_csv(\"array1.csv\",names=list(\"abcde\"),index_col=\"e\")  #index_col=\"e\"将列索引e所在的值变成行索引\n",
    "\n",
    "pd.read_csv(\"array1.csv\",names=list(\"abcde\"),index_col=['d','e'])  #index_col=['d','e']将列索引d,e所在的值变成行索引组成层次化索引\n",
    "pd.read_table(\"1.txt\",sep=\"\\s+\")\n"
   ]
  },
  {
   "cell_type": "code",
   "execution_count": 28,
   "metadata": {},
   "outputs": [],
   "source": [
    "# 写\n",
    "df1=pd.read_csv(\"array1.csv\",names=list(\"abcde\"))  #names=list(\"abcde\"):自定义列名\n",
    "df1.to_csv(\"array2.csv\")"
   ]
  },
  {
   "cell_type": "code",
   "execution_count": 43,
   "metadata": {},
   "outputs": [
    {
     "data": {
      "text/html": [
       "<div>\n",
       "<style scoped>\n",
       "    .dataframe tbody tr th:only-of-type {\n",
       "        vertical-align: middle;\n",
       "    }\n",
       "\n",
       "    .dataframe tbody tr th {\n",
       "        vertical-align: top;\n",
       "    }\n",
       "\n",
       "    .dataframe thead th {\n",
       "        text-align: right;\n",
       "    }\n",
       "</style>\n",
       "<table border=\"1\" class=\"dataframe\">\n",
       "  <thead>\n",
       "    <tr style=\"text-align: right;\">\n",
       "      <th></th>\n",
       "      <th>size</th>\n",
       "      <th>expi</th>\n",
       "    </tr>\n",
       "  </thead>\n",
       "  <tbody>\n",
       "    <tr>\n",
       "      <td>0</td>\n",
       "      <td>3124565</td>\n",
       "      <td>1200</td>\n",
       "    </tr>\n",
       "  </tbody>\n",
       "</table>\n",
       "</div>"
      ],
      "text/plain": [
       "      size  expi\n",
       "0  3124565  1200"
      ]
     },
     "execution_count": 43,
     "metadata": {},
     "output_type": "execute_result"
    }
   ],
   "source": [
    "# JSON数据\n",
    "import json\n",
    "# 转化为python代码\n",
    "data='{\"data\":[{\"id\":1487478464,\"url\":\"http://m801.music.126.net/20210219211559/b5cab0b222ae1de6b9ff695e19ba185e/jdyyaac/obj/w5rDlsOJwrLDjj7CmsOj/4440966245/2ab3/6a82/4190/34c4d3c8e4a3048e2088102917389e10.m4a\",\"br\":96012,\"size\":3124565,\"md5\":\"34c4d3c8e4a3048e2088102917389e10\",\"code\":200,\"expi\":1200,\"type\":\"m4a\",\"gain\":0.0,\"fee\":8,\"uf\":null,\"payed\":0,\"flag\":4,\"canExtend\":false,\"freeTrialInfo\":null,\"level\":null,\"encodeType\":null,\"freeTrialPrivilege\":{\"resConsumable\":false,\"userConsumable\":false},\"freeTimeTrialPrivilege\":{\"resConsumable\":false,\"userConsumable\":false,\"type\":0,\"remainTime\":0},\"urlSource\":0}],\"code\":200}'\n",
    "result=json.loads(data)\n",
    "result\n",
    "#将python代码转换为json字符串\n",
    "\n",
    "# r=json.dumps(result)\n",
    "# r\n",
    "df=pd.DataFrame(result[\"data\"],columns=[\"size\",'expi'])\n",
    "df"
   ]
  },
  {
   "cell_type": "code",
   "execution_count": 82,
   "metadata": {},
   "outputs": [
    {
     "name": "stdout",
     "output_type": "stream",
     "text": [
      "<pandas.io.parsers.TextFileReader object at 0x000001F5A818F148> <class 'pandas.io.parsers.TextFileReader'>\n",
      "   1  1.1  4  3  hello\n",
      "0  1    3  0  4  world\n"
     ]
    },
    {
     "data": {
      "text/html": [
       "<div>\n",
       "<style scoped>\n",
       "    .dataframe tbody tr th:only-of-type {\n",
       "        vertical-align: middle;\n",
       "    }\n",
       "\n",
       "    .dataframe tbody tr th {\n",
       "        vertical-align: top;\n",
       "    }\n",
       "\n",
       "    .dataframe thead th {\n",
       "        text-align: right;\n",
       "    }\n",
       "</style>\n",
       "<table border=\"1\" class=\"dataframe\">\n",
       "  <thead>\n",
       "    <tr style=\"text-align: right;\">\n",
       "      <th></th>\n",
       "      <th>1</th>\n",
       "      <th>1.1</th>\n",
       "      <th>4</th>\n",
       "      <th>3</th>\n",
       "      <th>hello</th>\n",
       "    </tr>\n",
       "  </thead>\n",
       "  <tbody>\n",
       "    <tr>\n",
       "      <td>0</td>\n",
       "      <td>1</td>\n",
       "      <td>3</td>\n",
       "      <td>0</td>\n",
       "      <td>4</td>\n",
       "      <td>world</td>\n",
       "    </tr>\n",
       "  </tbody>\n",
       "</table>\n",
       "</div>"
      ],
      "text/plain": [
       "   1  1.1  4  3  hello\n",
       "0  1    3  0  4  world"
      ]
     },
     "execution_count": 82,
     "metadata": {},
     "output_type": "execute_result"
    }
   ],
   "source": [
    "# 分块读取文件\n",
    "block=pd.read_csv(\"array1.csv\",chunksize=1)  #,chunksize=数值：将数值分为几块读取\n",
    "print(block,type(block))\n",
    "print(block.get_chunk())#get_chunk([num]) 读取几行，默认为chunksize所制定的行数\n",
    "# print(type(block.get_chunk()))\n",
    "block=pd.read_csv(\"array1.csv\",iterator=True)  #以迭代器的形式读取数据(不会将所有数据放在内存当中)\n",
    "block\n",
    "block.get_chunk(1)"
   ]
  },
  {
   "cell_type": "code",
   "execution_count": 87,
   "metadata": {},
   "outputs": [
    {
     "data": {
      "text/html": [
       "<div>\n",
       "<style scoped>\n",
       "    .dataframe tbody tr th:only-of-type {\n",
       "        vertical-align: middle;\n",
       "    }\n",
       "\n",
       "    .dataframe tbody tr th {\n",
       "        vertical-align: top;\n",
       "    }\n",
       "\n",
       "    .dataframe thead th {\n",
       "        text-align: right;\n",
       "    }\n",
       "</style>\n",
       "<table border=\"1\" class=\"dataframe\">\n",
       "  <thead>\n",
       "    <tr style=\"text-align: right;\">\n",
       "      <th></th>\n",
       "      <th>food</th>\n",
       "      <th>price</th>\n",
       "    </tr>\n",
       "  </thead>\n",
       "  <tbody>\n",
       "    <tr>\n",
       "      <td>0</td>\n",
       "      <td>Apple</td>\n",
       "      <td>4.0</td>\n",
       "    </tr>\n",
       "    <tr>\n",
       "      <td>1</td>\n",
       "      <td>banana</td>\n",
       "      <td>3.0</td>\n",
       "    </tr>\n",
       "    <tr>\n",
       "      <td>2</td>\n",
       "      <td>oringe</td>\n",
       "      <td>3.5</td>\n",
       "    </tr>\n",
       "    <tr>\n",
       "      <td>3</td>\n",
       "      <td>mango</td>\n",
       "      <td>6.0</td>\n",
       "    </tr>\n",
       "    <tr>\n",
       "      <td>4</td>\n",
       "      <td>tomato</td>\n",
       "      <td>12.3</td>\n",
       "    </tr>\n",
       "  </tbody>\n",
       "</table>\n",
       "</div>"
      ],
      "text/plain": [
       "     food  price\n",
       "0   Apple    4.0\n",
       "1  banana    3.0\n",
       "2  oringe    3.5\n",
       "3   mango    6.0\n",
       "4  tomato   12.3"
      ]
     },
     "execution_count": 87,
     "metadata": {},
     "output_type": "execute_result"
    }
   ],
   "source": [
    "# 利用函数或映射进行数据转换\n",
    "data=pd.DataFrame({\"food\":[\"Apple\",\"banana\",'oringe','mango','tomato'],\n",
    "                  \"price\":[4,3,3.5,6,12.3]})\n",
    "\n",
    "data"
   ]
  },
  {
   "cell_type": "code",
   "execution_count": 97,
   "metadata": {},
   "outputs": [
    {
     "data": {
      "text/plain": [
       "0     apple\n",
       "1    banana\n",
       "2    oringe\n",
       "3     mango\n",
       "4    tomato\n",
       "Name: food, dtype: object"
      ]
     },
     "execution_count": 97,
     "metadata": {},
     "output_type": "execute_result"
    }
   ],
   "source": [
    "meat={\"apple\":\"fruit\",\n",
    "      \"banana\":\"fruit\",\n",
    "      \"oringe\":\"fruit\",\n",
    "      \"mango\":\"fruit\",\n",
    "      \"tomato\":\"vagetable\",\n",
    "     } \n",
    "# data[\"class\"]=data[\"food\"].map(meat)  #根据food列对应meat字典的键，获取相应的值\n",
    "# data\n",
    "\n",
    "#将food列全部变为小写\n",
    "low=data[\"food\"].str.lower()\n",
    "# print(low)\n",
    "low"
   ]
  },
  {
   "cell_type": "code",
   "execution_count": 100,
   "metadata": {},
   "outputs": [
    {
     "data": {
      "text/html": [
       "<div>\n",
       "<style scoped>\n",
       "    .dataframe tbody tr th:only-of-type {\n",
       "        vertical-align: middle;\n",
       "    }\n",
       "\n",
       "    .dataframe tbody tr th {\n",
       "        vertical-align: top;\n",
       "    }\n",
       "\n",
       "    .dataframe thead th {\n",
       "        text-align: right;\n",
       "    }\n",
       "</style>\n",
       "<table border=\"1\" class=\"dataframe\">\n",
       "  <thead>\n",
       "    <tr style=\"text-align: right;\">\n",
       "      <th></th>\n",
       "      <th>food</th>\n",
       "      <th>price</th>\n",
       "      <th>class</th>\n",
       "    </tr>\n",
       "  </thead>\n",
       "  <tbody>\n",
       "    <tr>\n",
       "      <td>0</td>\n",
       "      <td>Apple</td>\n",
       "      <td>4.0</td>\n",
       "      <td>fruit</td>\n",
       "    </tr>\n",
       "    <tr>\n",
       "      <td>1</td>\n",
       "      <td>banana</td>\n",
       "      <td>3.0</td>\n",
       "      <td>fruit</td>\n",
       "    </tr>\n",
       "    <tr>\n",
       "      <td>2</td>\n",
       "      <td>oringe</td>\n",
       "      <td>3.5</td>\n",
       "      <td>fruit</td>\n",
       "    </tr>\n",
       "    <tr>\n",
       "      <td>3</td>\n",
       "      <td>mango</td>\n",
       "      <td>6.0</td>\n",
       "      <td>fruit</td>\n",
       "    </tr>\n",
       "    <tr>\n",
       "      <td>4</td>\n",
       "      <td>tomato</td>\n",
       "      <td>12.3</td>\n",
       "      <td>vagetable</td>\n",
       "    </tr>\n",
       "  </tbody>\n",
       "</table>\n",
       "</div>"
      ],
      "text/plain": [
       "     food  price      class\n",
       "0   Apple    4.0      fruit\n",
       "1  banana    3.0      fruit\n",
       "2  oringe    3.5      fruit\n",
       "3   mango    6.0      fruit\n",
       "4  tomato   12.3  vagetable"
      ]
     },
     "execution_count": 100,
     "metadata": {},
     "output_type": "execute_result"
    }
   ],
   "source": [
    "data[\"class\"]=low.map(meat)  #根据food列对应meat字典的键，获取相应的值\n",
    "data"
   ]
  },
  {
   "cell_type": "code",
   "execution_count": 105,
   "metadata": {},
   "outputs": [
    {
     "data": {
      "text/html": [
       "<div>\n",
       "<style scoped>\n",
       "    .dataframe tbody tr th:only-of-type {\n",
       "        vertical-align: middle;\n",
       "    }\n",
       "\n",
       "    .dataframe tbody tr th {\n",
       "        vertical-align: top;\n",
       "    }\n",
       "\n",
       "    .dataframe thead th {\n",
       "        text-align: right;\n",
       "    }\n",
       "</style>\n",
       "<table border=\"1\" class=\"dataframe\">\n",
       "  <thead>\n",
       "    <tr style=\"text-align: right;\">\n",
       "      <th></th>\n",
       "      <th>food</th>\n",
       "      <th>price</th>\n",
       "      <th>class</th>\n",
       "      <th>class1</th>\n",
       "    </tr>\n",
       "  </thead>\n",
       "  <tbody>\n",
       "    <tr>\n",
       "      <td>0</td>\n",
       "      <td>Apple</td>\n",
       "      <td>4.0</td>\n",
       "      <td>fruit</td>\n",
       "      <td>fruit</td>\n",
       "    </tr>\n",
       "    <tr>\n",
       "      <td>1</td>\n",
       "      <td>banana</td>\n",
       "      <td>3.0</td>\n",
       "      <td>fruit</td>\n",
       "      <td>fruit</td>\n",
       "    </tr>\n",
       "    <tr>\n",
       "      <td>2</td>\n",
       "      <td>oringe</td>\n",
       "      <td>3.5</td>\n",
       "      <td>fruit</td>\n",
       "      <td>fruit</td>\n",
       "    </tr>\n",
       "    <tr>\n",
       "      <td>3</td>\n",
       "      <td>mango</td>\n",
       "      <td>6.0</td>\n",
       "      <td>fruit</td>\n",
       "      <td>fruit</td>\n",
       "    </tr>\n",
       "    <tr>\n",
       "      <td>4</td>\n",
       "      <td>tomato</td>\n",
       "      <td>12.3</td>\n",
       "      <td>vagetable</td>\n",
       "      <td>vagetable</td>\n",
       "    </tr>\n",
       "  </tbody>\n",
       "</table>\n",
       "</div>"
      ],
      "text/plain": [
       "     food  price      class     class1\n",
       "0   Apple    4.0      fruit      fruit\n",
       "1  banana    3.0      fruit      fruit\n",
       "2  oringe    3.5      fruit      fruit\n",
       "3   mango    6.0      fruit      fruit\n",
       "4  tomato   12.3  vagetable  vagetable"
      ]
     },
     "execution_count": 105,
     "metadata": {},
     "output_type": "execute_result"
    }
   ],
   "source": [
    "# 利用函数处理\n",
    "#通过匿名函数将字典里键所有大写改为小写\n",
    "data['class1']=data[\"food\"].map(lambda x:meat[x.lower()]) \n",
    "data"
   ]
  },
  {
   "cell_type": "code",
   "execution_count": 116,
   "metadata": {},
   "outputs": [
    {
     "data": {
      "text/plain": [
       "0   -1.0\n",
       "1    NaN\n",
       "2    2.0\n",
       "3    1.0\n",
       "4    3.0\n",
       "dtype: float64"
      ]
     },
     "execution_count": 116,
     "metadata": {},
     "output_type": "execute_result"
    }
   ],
   "source": [
    "# 替换值   replace()  返回一个新的对象\n",
    "data=pd.Series([-1,-999,2,-1000,3])\n",
    "# 替换一个值\n",
    "data.replace(-999,np.nan)\n",
    "# 替换多个值\n",
    "data.replace([-999,-1000],np.nan)\n",
    "# 替换多个不同的值\n",
    "data.replace([-999,-1000],[np.nan,0])\n",
    "# 除此之外还可以使用字典\n",
    "data.replace({-999:np.nan,-1000:1})\n",
    "\n",
    "# data.replace和data.str.replace的区别\n",
    "# 后面明显是字符串操作"
   ]
  },
  {
   "cell_type": "code",
   "execution_count": 132,
   "metadata": {},
   "outputs": [
    {
     "data": {
      "text/html": [
       "<div>\n",
       "<style scoped>\n",
       "    .dataframe tbody tr th:only-of-type {\n",
       "        vertical-align: middle;\n",
       "    }\n",
       "\n",
       "    .dataframe tbody tr th {\n",
       "        vertical-align: top;\n",
       "    }\n",
       "\n",
       "    .dataframe thead th {\n",
       "        text-align: right;\n",
       "    }\n",
       "</style>\n",
       "<table border=\"1\" class=\"dataframe\">\n",
       "  <thead>\n",
       "    <tr style=\"text-align: right;\">\n",
       "      <th></th>\n",
       "      <th>one</th>\n",
       "      <th>two</th>\n",
       "      <th>three</th>\n",
       "      <th>four</th>\n",
       "    </tr>\n",
       "  </thead>\n",
       "  <tbody>\n",
       "    <tr>\n",
       "      <td>BEIJ</td>\n",
       "      <td>0</td>\n",
       "      <td>1</td>\n",
       "      <td>2</td>\n",
       "      <td>3</td>\n",
       "    </tr>\n",
       "    <tr>\n",
       "      <td>TOKY</td>\n",
       "      <td>4</td>\n",
       "      <td>5</td>\n",
       "      <td>6</td>\n",
       "      <td>7</td>\n",
       "    </tr>\n",
       "    <tr>\n",
       "      <td>NEWY</td>\n",
       "      <td>8</td>\n",
       "      <td>9</td>\n",
       "      <td>10</td>\n",
       "      <td>11</td>\n",
       "    </tr>\n",
       "  </tbody>\n",
       "</table>\n",
       "</div>"
      ],
      "text/plain": [
       "      one  two  three  four\n",
       "BEIJ    0    1      2     3\n",
       "TOKY    4    5      6     7\n",
       "NEWY    8    9     10    11"
      ]
     },
     "execution_count": 132,
     "metadata": {},
     "output_type": "execute_result"
    }
   ],
   "source": [
    "#重命名轴索引\n",
    "data=pd.DataFrame(np.arange(12).reshape((3,4)),index=[\"Beijing\",'Tokyo','NewYork'],columns=['one','two','three','four'])\n",
    "data\n",
    "\n",
    "#重新索引(只能够调整已有的标签名)\n",
    "data.reindex([\"Beijing\",'New York','Tokyo'])\n",
    "\n",
    "# 大写\n",
    "trans=lambda x:x[:4].upper()\n",
    "data.index.map(trans)\n",
    "# 就地修改\n",
    "data.index=data.index.map(trans)\n",
    "data\n"
   ]
  },
  {
   "cell_type": "code",
   "execution_count": 137,
   "metadata": {},
   "outputs": [
    {
     "data": {
      "text/html": [
       "<div>\n",
       "<style scoped>\n",
       "    .dataframe tbody tr th:only-of-type {\n",
       "        vertical-align: middle;\n",
       "    }\n",
       "\n",
       "    .dataframe tbody tr th {\n",
       "        vertical-align: top;\n",
       "    }\n",
       "\n",
       "    .dataframe thead th {\n",
       "        text-align: right;\n",
       "    }\n",
       "</style>\n",
       "<table border=\"1\" class=\"dataframe\">\n",
       "  <thead>\n",
       "    <tr style=\"text-align: right;\">\n",
       "      <th></th>\n",
       "      <th>one</th>\n",
       "      <th>two</th>\n",
       "      <th>three</th>\n",
       "      <th>四</th>\n",
       "    </tr>\n",
       "  </thead>\n",
       "  <tbody>\n",
       "    <tr>\n",
       "      <td>BEIJ</td>\n",
       "      <td>0</td>\n",
       "      <td>1</td>\n",
       "      <td>2</td>\n",
       "      <td>3</td>\n",
       "    </tr>\n",
       "    <tr>\n",
       "      <td>TOKY</td>\n",
       "      <td>4</td>\n",
       "      <td>5</td>\n",
       "      <td>6</td>\n",
       "      <td>7</td>\n",
       "    </tr>\n",
       "    <tr>\n",
       "      <td>New</td>\n",
       "      <td>8</td>\n",
       "      <td>9</td>\n",
       "      <td>10</td>\n",
       "      <td>11</td>\n",
       "    </tr>\n",
       "  </tbody>\n",
       "</table>\n",
       "</div>"
      ],
      "text/plain": [
       "      one  two  three   四\n",
       "BEIJ    0    1      2   3\n",
       "TOKY    4    5      6   7\n",
       "New     8    9     10  11"
      ]
     },
     "execution_count": 137,
     "metadata": {},
     "output_type": "execute_result"
    }
   ],
   "source": [
    "#rename()   不修改原始数据，生成一个新的DataFrame对象\n",
    "data.rename(index=str.title,columns=str.upper)\n",
    "\n",
    "\n",
    "# 修改行索引名字及列索引名字，结合字典对标签进行标签更新\n",
    "data.rename(index={\"NEWY\":\"New\"},columns={\"four\":\"四\"})\n"
   ]
  },
  {
   "cell_type": "code",
   "execution_count": 141,
   "metadata": {},
   "outputs": [
    {
     "data": {
      "text/html": [
       "<div>\n",
       "<style scoped>\n",
       "    .dataframe tbody tr th:only-of-type {\n",
       "        vertical-align: middle;\n",
       "    }\n",
       "\n",
       "    .dataframe tbody tr th {\n",
       "        vertical-align: top;\n",
       "    }\n",
       "\n",
       "    .dataframe thead th {\n",
       "        text-align: right;\n",
       "    }\n",
       "</style>\n",
       "<table border=\"1\" class=\"dataframe\">\n",
       "  <thead>\n",
       "    <tr style=\"text-align: right;\">\n",
       "      <th></th>\n",
       "      <th>one</th>\n",
       "      <th>two</th>\n",
       "      <th>three</th>\n",
       "      <th>四</th>\n",
       "    </tr>\n",
       "  </thead>\n",
       "  <tbody>\n",
       "    <tr>\n",
       "      <td>BEIJ</td>\n",
       "      <td>0</td>\n",
       "      <td>1</td>\n",
       "      <td>2</td>\n",
       "      <td>3</td>\n",
       "    </tr>\n",
       "    <tr>\n",
       "      <td>TOKY</td>\n",
       "      <td>4</td>\n",
       "      <td>5</td>\n",
       "      <td>6</td>\n",
       "      <td>7</td>\n",
       "    </tr>\n",
       "    <tr>\n",
       "      <td>New</td>\n",
       "      <td>8</td>\n",
       "      <td>9</td>\n",
       "      <td>10</td>\n",
       "      <td>11</td>\n",
       "    </tr>\n",
       "  </tbody>\n",
       "</table>\n",
       "</div>"
      ],
      "text/plain": [
       "      one  two  three   四\n",
       "BEIJ    0    1      2   3\n",
       "TOKY    4    5      6   7\n",
       "New     8    9     10  11"
      ]
     },
     "execution_count": 141,
     "metadata": {},
     "output_type": "execute_result"
    }
   ],
   "source": [
    "data\n",
    "\n",
    "#inplace=True 就地修改原数据\n",
    "data.rename(index={\"NEWY\":\"New\"},columns={\"four\":\"四\"},inplace=True)\n",
    "data"
   ]
  },
  {
   "cell_type": "code",
   "execution_count": 153,
   "metadata": {},
   "outputs": [
    {
     "data": {
      "text/plain": [
       "[青少年, 青少年, 青少年, 青年, 青少年, ..., 青年, 老年, 中年, 中年, 青年]\n",
       "Length: 12\n",
       "Categories (4, object): [青少年 < 青年 < 中年 < 老年]"
      ]
     },
     "execution_count": 153,
     "metadata": {},
     "output_type": "execute_result"
    }
   ],
   "source": [
    "# 离散化和面元划分 ---分阶段\n",
    "# 离散化:获得该数据在整个样本中的顺序（从小到大,获得的是每个样本在样品集中的序号）\n",
    "\n",
    "\n",
    "\n",
    "ages=[20,22,25,27,21,23,37,31,61,45,41,32]\n",
    "\n",
    "bins=[18,25,35,60,100]\n",
    "#判断某个数在给定bins的哪个区间范围内\n",
    "cats=pd.cut(ages,bins)\n",
    "cats.codes\n",
    "pd.value_counts(cats)\n",
    "\n",
    "#修改开闭区间\n",
    "cats=pd.cut(ages,bins,right=False)\n",
    "cats\n",
    "\n",
    "names=[\"青少年\",\"青年\",\"中年\",\"老年\"]\n",
    "#对所属数字按便签进行划分 \n",
    "\n",
    "pd.cut(ages,bins,labels=names)\n"
   ]
  },
  {
   "cell_type": "code",
   "execution_count": 160,
   "metadata": {},
   "outputs": [
    {
     "data": {
      "text/plain": [
       "(0.25, 0.48]      8\n",
       "(0.0069, 0.25]    6\n",
       "(0.72, 0.96]      3\n",
       "(0.48, 0.72]      3\n",
       "dtype: int64"
      ]
     },
     "execution_count": 160,
     "metadata": {},
     "output_type": "execute_result"
    }
   ],
   "source": [
    "data=np.random.rand(20)\n",
    "\n",
    "#precision 精确到小数位数\n",
    "cats=pd.cut(data,4,precision=2)\n",
    "pd.value_counts(cats)"
   ]
  },
  {
   "cell_type": "code",
   "execution_count": 161,
   "metadata": {},
   "outputs": [
    {
     "data": {
      "text/plain": [
       "(0.643, 3.008]       250\n",
       "(-0.0208, 0.643]     250\n",
       "(-0.679, -0.0208]    250\n",
       "(-2.675, -0.679]     250\n",
       "dtype: int64"
      ]
     },
     "execution_count": 161,
     "metadata": {},
     "output_type": "execute_result"
    }
   ],
   "source": [
    "# qcut()函数 划分相等大小的面元\n",
    "data=np.random.randn(1000)\n",
    "cats=pd.qcut(data,4)\n",
    "pd.value_counts(cats)"
   ]
  },
  {
   "cell_type": "code",
   "execution_count": 179,
   "metadata": {},
   "outputs": [
    {
     "data": {
      "text/html": [
       "<div>\n",
       "<style scoped>\n",
       "    .dataframe tbody tr th:only-of-type {\n",
       "        vertical-align: middle;\n",
       "    }\n",
       "\n",
       "    .dataframe tbody tr th {\n",
       "        vertical-align: top;\n",
       "    }\n",
       "\n",
       "    .dataframe thead th {\n",
       "        text-align: right;\n",
       "    }\n",
       "</style>\n",
       "<table border=\"1\" class=\"dataframe\">\n",
       "  <thead>\n",
       "    <tr style=\"text-align: right;\">\n",
       "      <th></th>\n",
       "      <th>0</th>\n",
       "      <th>1</th>\n",
       "      <th>2</th>\n",
       "      <th>3</th>\n",
       "    </tr>\n",
       "  </thead>\n",
       "  <tbody>\n",
       "    <tr>\n",
       "      <td>25</td>\n",
       "      <td>0.117475</td>\n",
       "      <td>-1.219090</td>\n",
       "      <td>0.409377</td>\n",
       "      <td>3.086539</td>\n",
       "    </tr>\n",
       "    <tr>\n",
       "      <td>77</td>\n",
       "      <td>0.231392</td>\n",
       "      <td>1.587828</td>\n",
       "      <td>0.171820</td>\n",
       "      <td>3.115994</td>\n",
       "    </tr>\n",
       "    <tr>\n",
       "      <td>106</td>\n",
       "      <td>-0.417249</td>\n",
       "      <td>0.373504</td>\n",
       "      <td>-3.149796</td>\n",
       "      <td>-0.376112</td>\n",
       "    </tr>\n",
       "    <tr>\n",
       "      <td>124</td>\n",
       "      <td>-0.505991</td>\n",
       "      <td>0.092446</td>\n",
       "      <td>3.058534</td>\n",
       "      <td>0.117340</td>\n",
       "    </tr>\n",
       "    <tr>\n",
       "      <td>395</td>\n",
       "      <td>-1.205176</td>\n",
       "      <td>-3.002691</td>\n",
       "      <td>1.374696</td>\n",
       "      <td>0.338061</td>\n",
       "    </tr>\n",
       "    <tr>\n",
       "      <td>820</td>\n",
       "      <td>-0.457708</td>\n",
       "      <td>-0.576634</td>\n",
       "      <td>3.349155</td>\n",
       "      <td>-2.074787</td>\n",
       "    </tr>\n",
       "    <tr>\n",
       "      <td>962</td>\n",
       "      <td>3.576708</td>\n",
       "      <td>-0.076273</td>\n",
       "      <td>-0.575411</td>\n",
       "      <td>0.124964</td>\n",
       "    </tr>\n",
       "  </tbody>\n",
       "</table>\n",
       "</div>"
      ],
      "text/plain": [
       "            0         1         2         3\n",
       "25   0.117475 -1.219090  0.409377  3.086539\n",
       "77   0.231392  1.587828  0.171820  3.115994\n",
       "106 -0.417249  0.373504 -3.149796 -0.376112\n",
       "124 -0.505991  0.092446  3.058534  0.117340\n",
       "395 -1.205176 -3.002691  1.374696  0.338061\n",
       "820 -0.457708 -0.576634  3.349155 -2.074787\n",
       "962  3.576708 -0.076273 -0.575411  0.124964"
      ]
     },
     "execution_count": 179,
     "metadata": {},
     "output_type": "execute_result"
    }
   ],
   "source": [
    "# 检测和过滤异常值\n",
    "data=pd.DataFrame(np.random.randn(1000,4))\n",
    "# data\n",
    "\n",
    "#过滤异常值大于三的数据   any(1):取到大于3的行数\n",
    "data[(np.abs(data)>3).any(1)]"
   ]
  },
  {
   "cell_type": "code",
   "execution_count": null,
   "metadata": {},
   "outputs": [],
   "source": []
  }
 ],
 "metadata": {
  "kernelspec": {
   "display_name": "Python 3",
   "language": "python",
   "name": "python3"
  },
  "language_info": {
   "codemirror_mode": {
    "name": "ipython",
    "version": 3
   },
   "file_extension": ".py",
   "mimetype": "text/x-python",
   "name": "python",
   "nbconvert_exporter": "python",
   "pygments_lexer": "ipython3",
   "version": "3.7.4"
  }
 },
 "nbformat": 4,
 "nbformat_minor": 2
}
