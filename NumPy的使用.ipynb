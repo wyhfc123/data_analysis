{
 "cells": [
  {
   "cell_type": "code",
   "execution_count": 6,
   "metadata": {},
   "outputs": [
    {
     "name": "stdout",
     "output_type": "stream",
     "text": [
      "0.7855167388916016\n"
     ]
    }
   ],
   "source": [
    "import numpy as np\n",
    "import time\n",
    "start=time.time()\n",
    "s=[]\n",
    "for x in range(1000000):\n",
    "    s.append(x**2)\n",
    "endtime=time.time()\n",
    "print(endtime-start)"
   ]
  },
  {
   "cell_type": "code",
   "execution_count": 7,
   "metadata": {},
   "outputs": [
    {
     "name": "stdout",
     "output_type": "stream",
     "text": [
      "0.014007329940795898\n"
     ]
    }
   ],
   "source": [
    "s1=time.time()\n",
    "np.arange(1000000)**2\n",
    "e1=time.time()\n",
    "print(e1-s1)"
   ]
  },
  {
   "cell_type": "code",
   "execution_count": 8,
   "metadata": {},
   "outputs": [
    {
     "data": {
      "text/plain": [
       "array(['1', '2', '3'], dtype='<U11')"
      ]
     },
     "execution_count": 8,
     "metadata": {},
     "output_type": "execute_result"
    }
   ],
   "source": [
    "np.array([1,2,\"3\"])\n"
   ]
  },
  {
   "cell_type": "code",
   "execution_count": 11,
   "metadata": {},
   "outputs": [
    {
     "data": {
      "text/plain": [
       "array([1, 2, 3], dtype=int64)"
      ]
     },
     "execution_count": 11,
     "metadata": {},
     "output_type": "execute_result"
    }
   ],
   "source": [
    "a=np.array([1,2,\"3\"],dtype=\"int64\")"
   ]
  },
  {
   "cell_type": "code",
   "execution_count": 15,
   "metadata": {},
   "outputs": [
    {
     "name": "stdout",
     "output_type": "stream",
     "text": [
      "[0 1 2 3 4 5 6 7 8 9]\n",
      "<class 'numpy.ndarray'>\n"
     ]
    }
   ],
   "source": [
    "print(a)\n",
    "print(type(a))"
   ]
  },
  {
   "cell_type": "code",
   "execution_count": 13,
   "metadata": {},
   "outputs": [
    {
     "name": "stdout",
     "output_type": "stream",
     "text": [
      "[0 1 2 3 4 5 6 7 8 9]\n"
     ]
    }
   ],
   "source": [
    "print(a)"
   ]
  },
  {
   "cell_type": "code",
   "execution_count": 16,
   "metadata": {},
   "outputs": [
    {
     "data": {
      "text/plain": [
       "array([0, 1, 2, 3, 4, 5, 6, 7, 8, 9])"
      ]
     },
     "execution_count": 16,
     "metadata": {},
     "output_type": "execute_result"
    }
   ],
   "source": [
    "np.arange(10)"
   ]
  },
  {
   "cell_type": "code",
   "execution_count": 19,
   "metadata": {},
   "outputs": [
    {
     "data": {
      "text/plain": [
       "0.05304192500245597"
      ]
     },
     "execution_count": 19,
     "metadata": {},
     "output_type": "execute_result"
    }
   ],
   "source": [
    "#random函数的用法\n",
    "#np.random.random([(行，列)])：生成一个0-1之间的小数,[]:生成几行几列的矩阵（可选）\n",
    "c=np.random.random()#生成随机数\n",
    "c"
   ]
  },
  {
   "cell_type": "code",
   "execution_count": 20,
   "metadata": {},
   "outputs": [
    {
     "data": {
      "text/plain": [
       "array([[0.24921122, 0.2251848 ],\n",
       "       [0.46584947, 0.60362464]])"
      ]
     },
     "execution_count": 20,
     "metadata": {},
     "output_type": "execute_result"
    }
   ],
   "source": [
    "c=np.random.random((2,2))  #返回两行两列的数组\n",
    "c"
   ]
  },
  {
   "cell_type": "code",
   "execution_count": 21,
   "metadata": {},
   "outputs": [
    {
     "name": "stdout",
     "output_type": "stream",
     "text": [
      "[[2 5 8 0]\n",
      " [0 6 4 3]\n",
      " [3 6 6 6]]\n"
     ]
    }
   ],
   "source": [
    "#np.random.randint(start,end,[size=()])：生成其实索引start到结束索引end之间的随机整数,[]:生成几行几列的矩阵（可选）\n",
    "a=np.random.randint(0,9,size=(3,4))\n",
    "print(a)"
   ]
  },
  {
   "cell_type": "code",
   "execution_count": 24,
   "metadata": {},
   "outputs": [
    {
     "name": "stdout",
     "output_type": "stream",
     "text": [
      "[[0. 0. 0.]\n",
      " [0. 0. 0.]\n",
      " [0. 0. 0.]]\n"
     ]
    }
   ],
   "source": [
    "# numpy特殊函数\n",
    "# 1、零矩阵\n",
    "# array_zeros=np.zeros([(行、列)])\n",
    "array_zeros=np.zeros((3,3))\n",
    "print(array_zeros)"
   ]
  },
  {
   "cell_type": "code",
   "execution_count": 25,
   "metadata": {},
   "outputs": [
    {
     "name": "stdout",
     "output_type": "stream",
     "text": [
      "[[1. 1. 1. 1.]\n",
      " [1. 1. 1. 1.]\n",
      " [1. 1. 1. 1.]\n",
      " [1. 1. 1. 1.]]\n"
     ]
    }
   ],
   "source": [
    "# 1矩阵\n",
    "# array_one=np.zeros([(行、列)])\n",
    "array_one=np.ones((4,4))\n",
    "print(array_one)"
   ]
  },
  {
   "cell_type": "code",
   "execution_count": 27,
   "metadata": {},
   "outputs": [
    {
     "name": "stdout",
     "output_type": "stream",
     "text": [
      "[[3 3 3 3]\n",
      " [3 3 3 3]\n",
      " [3 3 3 3]]\n"
     ]
    }
   ],
   "source": [
    "#满矩阵\n",
    "# array_full=np.full([(行，列)]，要生成的数值几)、\n",
    "array_full=np.full((3,4),3)\n",
    "print(array_full)"
   ]
  },
  {
   "cell_type": "code",
   "execution_count": 28,
   "metadata": {},
   "outputs": [
    {
     "name": "stdout",
     "output_type": "stream",
     "text": [
      "[[1. 0. 0. 0.]\n",
      " [0. 1. 0. 0.]\n",
      " [0. 0. 1. 0.]\n",
      " [0. 0. 0. 1.]]\n"
     ]
    }
   ],
   "source": [
    "#对称矩阵\n",
    "# array_eye=np.eye(矩阵数)\n",
    "array_eye=np.eye(4)\n",
    "print(array_eye)"
   ]
  },
  {
   "cell_type": "code",
   "execution_count": 29,
   "metadata": {},
   "outputs": [
    {
     "data": {
      "text/plain": [
       "dtype('int32')"
      ]
     },
     "execution_count": 29,
     "metadata": {},
     "output_type": "execute_result"
    }
   ],
   "source": [
    "#数组输出类型dtype\n",
    "a=np.arange(10)\n",
    "a.dtype\n",
    "\n",
    "\n",
    "\n"
   ]
  },
  {
   "cell_type": "code",
   "execution_count": 31,
   "metadata": {},
   "outputs": [
    {
     "data": {
      "text/plain": [
       "dtype('float64')"
      ]
     },
     "execution_count": 31,
     "metadata": {},
     "output_type": "execute_result"
    }
   ],
   "source": [
    "#类型转换\n",
    "b=a.astype(\"float64\")\n",
    "b.dtype"
   ]
  },
  {
   "cell_type": "code",
   "execution_count": 32,
   "metadata": {},
   "outputs": [
    {
     "data": {
      "text/plain": [
       "dtype('int32')"
      ]
     },
     "execution_count": 32,
     "metadata": {},
     "output_type": "execute_result"
    }
   ],
   "source": [
    "a.dtype"
   ]
  },
  {
   "cell_type": "code",
   "execution_count": 45,
   "metadata": {},
   "outputs": [
    {
     "name": "stdout",
     "output_type": "stream",
     "text": [
      "1\n",
      "2\n",
      "3\n",
      "(6,)\n",
      "(2, 3)\n",
      "(2, 2, 3)\n",
      "[[1 2 3]\n",
      " [4 5 6]]\n",
      "[[1 2]\n",
      " [3 4]\n",
      " [5 6]]\n",
      "[ 1  2  3  4  5  6  7  8  9 10  3  1]\n",
      "[ 1  2  3  4  5  6  7  8  9 10  3  1]\n",
      "12\n",
      "4\n",
      "48\n"
     ]
    }
   ],
   "source": [
    "#多维数组\n",
    "a1=np.array(\n",
    "[1,2,3,4,5,6]\n",
    ")\n",
    "a2=np.array(\n",
    "[\n",
    "    [1,2,3],\n",
    "    [4,5,6]\n",
    "]\n",
    ")\n",
    "a3=np.array([\n",
    "    [\n",
    "        [1,2,3],\n",
    "        [4,5,6]\n",
    "    ],\n",
    "    [\n",
    "        [7,8,9],\n",
    "        [10,3,1]\n",
    "    ]\n",
    "])\n",
    "#查看数组的维度  ndim\n",
    "print(a1.ndim)\n",
    "print(a2.ndim)\n",
    "print(a3.ndim)\n",
    "#查看数组的形状  shape\n",
    "print(a1.shape)\n",
    "print(a2.shape)\n",
    "print(a3.shape)\n",
    "#修改数组的形状  reshape\n",
    "print(a1.reshape((2,3)))\n",
    "print(a2.reshape((3,2)))\n",
    "print(a3.reshape((12,)))\n",
    "#修改数组的维度(直接降为一维) flatten\n",
    "print(a3.flatten())\n",
    "#获得数组元素个数  size\n",
    "print(a3.size)\n",
    "#获得数组字节数  itemsize\n",
    "print(a3.itemsize)\n",
    "\n",
    "#测算a3占用的粽子节数\n",
    "total=a3.size*a3.itemsize\n",
    "print(total)\n",
    "\n",
    "\n"
   ]
  },
  {
   "cell_type": "code",
   "execution_count": 62,
   "metadata": {},
   "outputs": [
    {
     "name": "stdout",
     "output_type": "stream",
     "text": [
      "[[0 9 8 8 1 1]\n",
      " [3 6 4 7 8 5]\n",
      " [7 5 3 4 8 6]\n",
      " [3 2 1 9 9 2]\n",
      " [1 2 4 6 5 6]]\n",
      "[4 6]\n"
     ]
    }
   ],
   "source": [
    "b1=np.random.randint(0,10,size=(5,6))\n",
    "print(b1)\n",
    "#矩阵[行，列]  其中行又可以写成[索引行1，索引行2.,....]，列又可以写成[索引列1,索引列2,....] \n",
    "# 矩阵[起始索引行:结束索引行,起始索引列:结束索引列]   获取连续行对应连续列的值\n",
    "\n",
    "#获取第一行的数据\n",
    "print(b1[0])\n",
    "#获取第三行、第五行的数据\n",
    "print(b1[[1,4]])\n",
    "#获取第一列的数据\n",
    "print(b1[:,0])\n",
    "#获取第一列、第三列的数据\n",
    "print(b1[:,[0,2]])\n",
    "#获得第二行第五行、第三列、第六列的数据\n",
    "print(b1[[1,4],[2,5]])"
   ]
  },
  {
   "cell_type": "code",
   "execution_count": 69,
   "metadata": {},
   "outputs": [
    {
     "name": "stdout",
     "output_type": "stream",
     "text": [
      "[[ 0  1  2  3  4  5  6  7]\n",
      " [ 8  9 10 11 12 13 14 15]\n",
      " [16 17 18 19 20 21 22 23]]\n",
      "[ 0  1  2  3  4  5  6  7  8  9 10 11 12 13 14]\n",
      "[ 0  1  2 11 12 13 14 15 16 17 18 19 20 21 22 23]\n"
     ]
    }
   ],
   "source": [
    "#numpy的布尔索引\n",
    "b2=np.arange(24).reshape(3,8)\n",
    "print(b2)\n",
    "#获取小于15的数字\n",
    "print(b2[b2<15])\n",
    "#大于10的和小于3的\n",
    "print(b2[(b2<3) | (b2 >10)])\n"
   ]
  },
  {
   "cell_type": "code",
   "execution_count": 75,
   "metadata": {},
   "outputs": [
    {
     "name": "stdout",
     "output_type": "stream",
     "text": [
      "[[0 3 1 2]\n",
      " [3 5 5 7]\n",
      " [1 1 4 7]]\n",
      "[[0 3 1 2]\n",
      " [0 0 0 0]\n",
      " [1 1 4 7]]\n",
      "[[0 3 1 2]\n",
      " [0 1 2 3]\n",
      " [1 1 4 7]]\n",
      "[[1 1 1 1]\n",
      " [1 1 1 1]\n",
      " [1 1 4 7]]\n"
     ]
    },
    {
     "data": {
      "text/plain": [
       "array([[0, 0, 0, 0],\n",
       "       [0, 0, 0, 0],\n",
       "       [0, 0, 0, 1]])"
      ]
     },
     "execution_count": 75,
     "metadata": {},
     "output_type": "execute_result"
    }
   ],
   "source": [
    "#值替换\n",
    "b3=np.random.randint(0,10,size=(3,4))\n",
    "print(b3)\n",
    "#将某一行全部变为具体值  b3[要变的行]=值\n",
    "b3[1]=0\n",
    "print(b3)\n",
    "#将某一行变成连续的值\n",
    "b3[1]=np.arange(4)\n",
    "print(b3)\n",
    "#条件判断  \n",
    "b3[b3<4]=1\n",
    "print(b3)\n",
    "#where函数的使用   where(数组判断(布尔值)，如果为真要替换的值，如果为假要替换的值)\n",
    "np.where(b3<5,0,1)"
   ]
  },
  {
   "cell_type": "code",
   "execution_count": 105,
   "metadata": {},
   "outputs": [
    {
     "name": "stdout",
     "output_type": "stream",
     "text": [
      "[ 0 -1  2 -1  4 -1  6 -1  8 -1]\n",
      "[[6 4 0 0]\n",
      " [8 5 4 8]\n",
      " [2 3 1 3]\n",
      " [8 0 5 2]]\n",
      "[6 5 1 2]\n",
      "[[1 5 4 1 8 2 5 8 0]\n",
      " [3 7 0 5 9 4 5 2 8]\n",
      " [8 4 3 9 0 6 1 1 0]\n",
      " [3 1 6 6 8 6 8 3 9]\n",
      " [9 7 6 3 6 1 9 5 6]\n",
      " [9 3 0 3 2 7 5 5 2]\n",
      " [9 7 7 3 4 2 5 8 4]\n",
      " [0 9 7 6 5 0 0 6 4]]\n"
     ]
    },
    {
     "data": {
      "text/plain": [
       "array([8, 9, 6])"
      ]
     },
     "execution_count": 105,
     "metadata": {},
     "output_type": "execute_result"
    }
   ],
   "source": [
    "# 作业\n",
    "# 1、\n",
    "c=np.arange(10)\n",
    "c[c%2==1]=-1\n",
    "print(c)\n",
    "# 2、\n",
    "c1=np.random.randint(0,10,size=(4,4))\n",
    "print(c1)\n",
    "print(c1[np.eye(4)==1])\n",
    "# 3、\n",
    "c1[[0,1,3],[0,2,1]]\n",
    "# 4、\n",
    "c1[2:4,:]\n",
    "# 5、\n",
    "c1=np.random.randint(0,10,size=(8,9))\n",
    "print(c1)\n",
    "c1[1:6,8][c1[1:6,8]>3]\n"
   ]
  },
  {
   "cell_type": "markdown",
   "metadata": {},
   "source": [
    "# numpy的广播机制\n",
    "\n",
    "## 数组与数的运算(乘、减、加都可以)"
   ]
  },
  {
   "cell_type": "code",
   "execution_count": 7,
   "metadata": {},
   "outputs": [
    {
     "name": "stdout",
     "output_type": "stream",
     "text": [
      "[[6 8 6 6 6 7]\n",
      " [1 9 9 1 9 9]\n",
      " [0 5 2 5 4 2]\n",
      " [3 3 2 1 4 0]\n",
      " [0 9 5 1 8 1]]\n",
      "******************************\n",
      "[[4 1 1 4 1 4]\n",
      " [0 5 7 3 2 4]\n",
      " [6 4 6 4 5 4]\n",
      " [7 9 7 8 1 3]\n",
      " [7 7 4 7 7 8]]\n",
      "******************************\n",
      "[[10  9  7 10  7 11]\n",
      " [ 1 14 16  4 11 13]\n",
      " [ 6  9  8  9  9  6]\n",
      " [10 12  9  9  5  3]\n",
      " [ 7 16  9  8 15  9]]\n"
     ]
    }
   ],
   "source": [
    "\n",
    "\n",
    "import numpy as np\n",
    "\n",
    "#相同维数矩阵相加\n",
    "a1=np.random.randint(0,10,size=(5,6))\n",
    "a2=np.random.randint(0,10,size=(5,6))\n",
    "print(a1)\n",
    "print(\"*\"*30)\n",
    "print(a2)\n",
    "print(\"*\"*30)\n",
    "print(a1+a2)"
   ]
  },
  {
   "cell_type": "code",
   "execution_count": 8,
   "metadata": {},
   "outputs": [
    {
     "name": "stdout",
     "output_type": "stream",
     "text": [
      "[[8]\n",
      " [1]\n",
      " [7]\n",
      " [9]\n",
      " [3]]\n",
      "******************************\n",
      "[[14 16 14 14 14 15]\n",
      " [ 2 10 10  2 10 10]\n",
      " [ 7 12  9 12 11  9]\n",
      " [12 12 11 10 13  9]\n",
      " [ 3 12  8  4 11  4]]\n"
     ]
    }
   ],
   "source": [
    "#列为1相加\n",
    "a3=np.random.randint(0,10,size=(5,1))\n",
    "print(a3)\n",
    "print(\"*\"*30)\n",
    "print(a1+a3)"
   ]
  },
  {
   "cell_type": "code",
   "execution_count": 10,
   "metadata": {},
   "outputs": [
    {
     "name": "stdout",
     "output_type": "stream",
     "text": [
      "[[6 8 6 6 6 7]\n",
      " [1 9 9 1 9 9]\n",
      " [0 5 2 5 4 2]\n",
      " [3 3 2 1 4 0]\n",
      " [0 9 5 1 8 1]]\n",
      "******************************\n",
      "[[1 4 6 5 8 8]]\n",
      "******************************\n",
      "[[ 7 12 12 11 14 15]\n",
      " [ 2 13 15  6 17 17]\n",
      " [ 1  9  8 10 12 10]\n",
      " [ 4  7  8  6 12  8]\n",
      " [ 1 13 11  6 16  9]]\n"
     ]
    }
   ],
   "source": [
    "#行为1相加\n",
    "a4=np.random.randint(0,10,size=(1,6))\n",
    "print(a1)\n",
    "print(\"*\"*30)\n",
    "print(a4)\n",
    "print(\"*\"*30)\n",
    "print(a1+a4)\n"
   ]
  },
  {
   "cell_type": "code",
   "execution_count": 13,
   "metadata": {},
   "outputs": [
    {
     "name": "stdout",
     "output_type": "stream",
     "text": [
      "[[9 6 2 5 5 5]\n",
      " [6 3 0 9 9 7]\n",
      " [6 8 0 1 5 9]\n",
      " [5 7 3 0 9 1]\n",
      " [4 1 7 6 2 8]]\n",
      "************\n",
      "[[9 6 2 5 5]\n",
      " [5 6 3 0 9]\n",
      " [9 7 6 8 0]\n",
      " [1 5 9 5 7]\n",
      " [3 0 9 1 4]\n",
      " [1 7 6 2 8]]\n",
      "[[9 6 2 5 5 5]\n",
      " [6 3 0 9 9 7]\n",
      " [6 8 0 1 5 9]\n",
      " [5 7 3 0 9 1]\n",
      " [4 1 7 6 2 8]]\n",
      "************\n",
      "[[9 6 2 5 5]\n",
      " [5 6 3 0 9]\n",
      " [9 7 6 8 0]\n",
      " [1 5 9 5 7]\n",
      " [3 0 9 1 4]\n",
      " [1 7 6 2 8]]\n",
      "************\n"
     ]
    }
   ],
   "source": [
    "#数组形状的操作\n",
    "#reshape  和 resize\n",
    "b=np.random.randint(0,10,size=(5,6))\n",
    "print(b)\n",
    "print(\"************\")\n",
    "print(b.reshape(6,5))\n",
    "print(b)\n",
    "print(\"************\")\n",
    "b.resize(6,5)\n",
    "print(b)\n",
    "print(\"************\")\n",
    "#总结  reshape()将数组变形后不会改变原函数,而resize()将数组变形后会改变原函数  "
   ]
  },
  {
   "cell_type": "code",
   "execution_count": 20,
   "metadata": {},
   "outputs": [
    {
     "name": "stdout",
     "output_type": "stream",
     "text": [
      "************\n",
      "[7 8 7 9 6 3 3 7 5 5 9 6 2 3 5]\n",
      "[  7   8   7   9   6   3   3   7   5   5 100   6   2   3   5]\n",
      "[7 8 7 9 6 3 3 7 5 5 9 6 2 3 5]\n",
      "************\n",
      "[7 8 7 9 6 3 3 7 5 5 9 6 2 3 5]\n",
      "[ 7  8  7  9  6  3  3  7  5  5 20  6  2  3  5]\n",
      "[ 7  8  7  9  6  3  3  7  5  5 20  6  2  3  5]\n"
     ]
    }
   ],
   "source": [
    "#flatten() 和 ravel()\n",
    "c=np.random.randint(0,10,size=(3,5))\n",
    "# print(c)\n",
    "\n",
    "print(\"************\")\n",
    "d=c.flatten()\n",
    "print(d)\n",
    "d[10]=100\n",
    "print(d)\n",
    "print(c.flatten())\n",
    "print(\"************\")\n",
    "e=c.ravel()\n",
    "print(e)\n",
    "\n",
    "e[10]=20\n",
    "print(e)\n",
    "print(e.ravel())\n",
    "\n",
    "#flatten()和ravel()的区别\n",
    "#         flatten() 将数据降成一维后，对数据进行修改，并不会改变原来的值\n",
    "#         ravel()   将数据降成一维后，对数据进行修改，会改变原来的值\n",
    "\n",
    "\n",
    "\n",
    "\n",
    "\n"
   ]
  },
  {
   "cell_type": "code",
   "execution_count": 42,
   "metadata": {},
   "outputs": [
    {
     "name": "stdout",
     "output_type": "stream",
     "text": [
      "[[5 1 4 2 0 2]\n",
      " [2 6 8 0 7 9]\n",
      " [5 1 6 5 2 8]\n",
      " [9 7 7 6 0 2]]\n",
      "**************\n",
      "[[1 8 6 1 8 9]]\n",
      "**************\n",
      "[[5 1 4 2 0 2]\n",
      " [2 6 8 0 7 9]\n",
      " [5 1 6 5 2 8]\n",
      " [9 7 7 6 0 2]\n",
      " [1 8 6 1 8 9]]\n",
      "******************************\n",
      "[[6]\n",
      " [1]\n",
      " [5]\n",
      " [0]]\n",
      "[[5 1 4 2 0 2 6]\n",
      " [2 6 8 0 7 9 1]\n",
      " [5 1 6 5 2 8 5]\n",
      " [9 7 7 6 0 2 0]]\n",
      "**************\n",
      "[[5 1 4 2 0 2]\n",
      " [2 6 8 0 7 9]\n",
      " [5 1 6 5 2 8]\n",
      " [9 7 7 6 0 2]\n",
      " [1 8 6 1 8 9]]\n",
      "[[5 1 4 2 0 2 6]\n",
      " [2 6 8 0 7 9 1]\n",
      " [5 1 6 5 2 8 5]\n",
      " [9 7 7 6 0 2 0]]\n"
     ]
    }
   ],
   "source": [
    "#不同数组的组合\n",
    "# vstack() 、hstack() 和 concatenate()\n",
    "a1=np.random.randint(0,10,size=(4,6))\n",
    "a2=np.random.randint(0,10,size=(1,6))\n",
    "print(a1)\n",
    "print(\"**************\")\n",
    "print(a2)\n",
    "print(\"**************\")\n",
    "# vstack()为纵轴合并\n",
    "print(np.vstack([a1,a2]))\n",
    "print(\"******************************\")\n",
    "# hstack()为横轴合并\n",
    "a3=np.random.randint(0,10,size=(4,1))\n",
    "print(a3)\n",
    "print(np.hstack([a1,a3]))\n",
    "print(\"**************\")\n",
    "#axis=1为横向合并  axis=0为纵向合并\n",
    "print(np.concatenate((a1,a2),axis=0))\n",
    "print(np.concatenate((a1,a3),axis=1))\n",
    "\n",
    "\n",
    "\n",
    "\n",
    "\n",
    "\n"
   ]
  },
  {
   "cell_type": "code",
   "execution_count": 44,
   "metadata": {},
   "outputs": [
    {
     "name": "stdout",
     "output_type": "stream",
     "text": [
      "[[2 4 1 7]\n",
      " [7 7 7 6]\n",
      " [2 7 9 6]\n",
      " [6 0 3 4]]\n",
      "[array([[2, 4, 1, 7],\n",
      "       [7, 7, 7, 6]]), array([[2, 7, 9, 6],\n",
      "       [6, 0, 3, 4]])]\n",
      "**************\n",
      "[array([[2, 4],\n",
      "       [7, 7],\n",
      "       [2, 7],\n",
      "       [6, 0]]), array([[1, 7],\n",
      "       [7, 6],\n",
      "       [9, 6],\n",
      "       [3, 4]])]\n",
      "**************\n",
      "[array([[2, 4],\n",
      "       [7, 7],\n",
      "       [2, 7],\n",
      "       [6, 0]]), array([[1, 7],\n",
      "       [7, 6],\n",
      "       [9, 6],\n",
      "       [3, 4]])]\n",
      "**************\n",
      "[array([[2, 4, 1, 7],\n",
      "       [7, 7, 7, 6]]), array([[2, 7, 9, 6],\n",
      "       [6, 0, 3, 4]])]\n"
     ]
    }
   ],
   "source": [
    "#数组的切割\n",
    "# hsplit() 、vsplit() 和 array_split()\n",
    "a1=np.random.randint(0,10,size=(4,4))\n",
    "print(a1)\n",
    "print(np.vsplit(a1,2))\n",
    "print(\"**************\")\n",
    "print(np.hsplit(a1,2))\n",
    "print(\"**************\")\n",
    "print(np.array_split(a1,2,axis=1))   #横轴切割\n",
    "print(\"**************\")\n",
    "print(np.array_split(a1,2,axis=0)) #纵轴切割\n",
    "\n"
   ]
  },
  {
   "cell_type": "code",
   "execution_count": 58,
   "metadata": {},
   "outputs": [
    {
     "name": "stdout",
     "output_type": "stream",
     "text": [
      "[[ 0  1  2  3  4]\n",
      " [ 5  6  7  8  9]\n",
      " [10 11 12 13 14]\n",
      " [15 16 17 18 19]]\n",
      "**************\n",
      "[[ 0  5 10 15]\n",
      " [ 1  6 11 16]\n",
      " [ 2  7 12 17]\n",
      " [ 3  8 13 18]\n",
      " [ 4  9 14 19]]\n",
      "**************\n",
      "[[100 100 100 100]\n",
      " [  1   6  11  16]\n",
      " [  2   7  12  17]\n",
      " [  3   8  13  18]\n",
      " [  4   9  14  19]]\n",
      "**************\n",
      "[[100   1   2   3   4]\n",
      " [100   6   7   8   9]\n",
      " [100  11  12  13  14]\n",
      " [100  16  17  18  19]]\n",
      "--------------\n",
      "**************\n",
      "[[ 0  5 10 15]\n",
      " [ 1  6 11 16]\n",
      " [ 2  7 12 17]\n",
      " [ 3  8 13 18]\n",
      " [ 4  9 14 19]]\n",
      "[[20 20 20 20]\n",
      " [ 1  6 11 16]\n",
      " [ 2  7 12 17]\n",
      " [ 3  8 13 18]\n",
      " [ 4  9 14 19]]\n",
      "[[20  1  2  3  4]\n",
      " [20  6  7  8  9]\n",
      " [20 11 12 13 14]\n",
      " [20 16 17 18 19]]\n"
     ]
    }
   ],
   "source": [
    "#数组（矩阵）转置与轴兑换\n",
    "#转置:矩阵.T  或 transpose()\n",
    "#求内积：矩阵1.dot(矩阵2)\n",
    "\n",
    "a=np.arange(0,20).reshape((4,5))\n",
    "print(a)\n",
    "print(\"**************\")\n",
    "#转置\n",
    "b=a.T\n",
    "print(b)\n",
    "print(\"**************\")\n",
    "\n",
    "b[0]=100\n",
    "print(b)\n",
    "print(\"**************\")\n",
    "print(a)\n",
    "print(\"--------------\")\n",
    "print(\"**************\")\n",
    "a=np.arange(0,20).reshape((4,5))\n",
    "c=a.transpose()\n",
    "print(c)\n",
    "c[0]=20\n",
    "print(c)\n",
    "print(a)\n",
    "# #求内积\n",
    "# print(a.dot(b))\n",
    "\n",
    "# a.T和a.transpose()区别(无区别)\n",
    "#         a.T ： 对转置后的数组修改不会影响原数组\n",
    "#         transpose()： 对转置后的数组修改不会影响原数组\n"
   ]
  },
  {
   "cell_type": "code",
   "execution_count": 66,
   "metadata": {},
   "outputs": [
    {
     "name": "stdout",
     "output_type": "stream",
     "text": [
      "[[2 8 1 7]\n",
      " [6 9 5 3]\n",
      " [9 6 1 6]]\n",
      "[[2 8 1 7]\n",
      " [6 9 5 3]\n",
      " [9 6 1 6]]\n",
      "**************\n",
      "[[1 1 1 1]\n",
      " [6 9 5 3]\n",
      " [9 6 1 6]]\n",
      "[[1 1 1 1]\n",
      " [6 9 5 3]\n",
      " [9 6 1 6]]\n",
      "**************\n",
      "[[1 1 1 1]\n",
      " [6 9 5 3]\n",
      " [9 6 1 6]]\n",
      "[[1 1 1 1]\n",
      " [2 2 2 2]\n",
      " [9 6 1 6]]\n"
     ]
    }
   ],
   "source": [
    "#深浅拷贝\n",
    "# 1、不拷贝（只是换了个名字，赋值语句）\n",
    "a=np.random.randint(0,10,size=(3,4))\n",
    "b=a\n",
    "print(a)\n",
    "print(b)\n",
    "print(\"**************\")\n",
    "# 2、浅拷贝  view()只拷贝栈区，不拷贝堆区\n",
    "c=a.view()   \n",
    "c[0]=1\n",
    "print(c)\n",
    "print(a)\n",
    "print(\"**************\")\n",
    "#3、深拷贝\n",
    "d=a.copy()\n",
    "d[1]=2\n",
    "print(a)\n",
    "print(d)\n"
   ]
  },
  {
   "cell_type": "code",
   "execution_count": null,
   "metadata": {},
   "outputs": [],
   "source": []
  }
 ],
 "metadata": {
  "kernelspec": {
   "display_name": "Python 3",
   "language": "python",
   "name": "python3"
  },
  "language_info": {
   "codemirror_mode": {
    "name": "ipython",
    "version": 3
   },
   "file_extension": ".py",
   "mimetype": "text/x-python",
   "name": "python",
   "nbconvert_exporter": "python",
   "pygments_lexer": "ipython3",
   "version": "3.7.4"
  }
 },
 "nbformat": 4,
 "nbformat_minor": 2
}
